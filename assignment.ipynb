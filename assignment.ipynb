{
 "cells": [
  {
   "cell_type": "markdown",
   "metadata": {},
   "source": [
    "# data-science-libraries-assignment-2\n",
    "## Section 1:"
   ]
  },
  {
   "cell_type": "markdown",
   "metadata": {},
   "source": [
    "### Task 1: Setup and DataFrame Creation\n",
    "* Install Pandas (if not already installed).\n"
   ]
  },
  {
   "cell_type": "code",
   "execution_count": 15,
   "metadata": {},
   "outputs": [],
   "source": [
    "# Command to install pandas from jupyter notebook\n",
    "# !pip install pandas"
   ]
  },
  {
   "cell_type": "markdown",
   "metadata": {},
   "source": [
    "* Import Pandas and any other necessary librariesws"
   ]
  },
  {
   "cell_type": "code",
   "execution_count": 16,
   "metadata": {},
   "outputs": [],
   "source": [
    "# Importing necessary libraries\n",
    "import pandas as pd"
   ]
  },
  {
   "cell_type": "markdown",
   "metadata": {},
   "source": [
    "* Create a DataFrame from a dictionary."
   ]
  },
  {
   "cell_type": "code",
   "execution_count": 17,
   "metadata": {},
   "outputs": [
    {
     "name": "stdout",
     "output_type": "stream",
     "text": [
      "\n",
      "      name  roll  age\n",
      "0   mahesh     1   25\n",
      "1   george     2   35\n",
      "2     john     3   45\n",
      "3  sharaon     4   55\n"
     ]
    }
   ],
   "source": [
    "# Inititalize a dictionary\n",
    "dict_1 = {'name' : ['mahesh', 'george', 'john', 'sharaon'],\n",
    "          'roll' : [1, 2, 3, 4],\n",
    "          'age' : [25, 35, 45, 55]\n",
    "        }\n",
    "print()\n",
    "\n",
    "# Create DataFrame from dictionary\n",
    "df = pd.DataFrame(dict_1)\n",
    "print(df)"
   ]
  },
  {
   "cell_type": "markdown",
   "metadata": {},
   "source": [
    "* Create a DataFrame from a list of dictionaries"
   ]
  },
  {
   "cell_type": "code",
   "execution_count": 18,
   "metadata": {},
   "outputs": [
    {
     "name": "stdout",
     "output_type": "stream",
     "text": [
      "[{'name': 'mahesh', 'roll': 1, 'age': 25}, {'name': 'george', 'roll': 2, 'age': 35}, {'name': 'john', 'roll': 1, 'age': 25}, {'name': 'sharon', 'roll': 4, 'age': 55}]\n"
     ]
    },
    {
     "data": {
      "text/html": [
       "<div>\n",
       "<style scoped>\n",
       "    .dataframe tbody tr th:only-of-type {\n",
       "        vertical-align: middle;\n",
       "    }\n",
       "\n",
       "    .dataframe tbody tr th {\n",
       "        vertical-align: top;\n",
       "    }\n",
       "\n",
       "    .dataframe thead th {\n",
       "        text-align: right;\n",
       "    }\n",
       "</style>\n",
       "<table border=\"1\" class=\"dataframe\">\n",
       "  <thead>\n",
       "    <tr style=\"text-align: right;\">\n",
       "      <th></th>\n",
       "      <th>name</th>\n",
       "      <th>roll</th>\n",
       "      <th>age</th>\n",
       "    </tr>\n",
       "  </thead>\n",
       "  <tbody>\n",
       "    <tr>\n",
       "      <th>0</th>\n",
       "      <td>mahesh</td>\n",
       "      <td>1</td>\n",
       "      <td>25</td>\n",
       "    </tr>\n",
       "    <tr>\n",
       "      <th>1</th>\n",
       "      <td>george</td>\n",
       "      <td>2</td>\n",
       "      <td>35</td>\n",
       "    </tr>\n",
       "    <tr>\n",
       "      <th>2</th>\n",
       "      <td>john</td>\n",
       "      <td>1</td>\n",
       "      <td>25</td>\n",
       "    </tr>\n",
       "    <tr>\n",
       "      <th>3</th>\n",
       "      <td>sharon</td>\n",
       "      <td>4</td>\n",
       "      <td>55</td>\n",
       "    </tr>\n",
       "  </tbody>\n",
       "</table>\n",
       "</div>"
      ],
      "text/plain": [
       "     name  roll  age\n",
       "0  mahesh     1   25\n",
       "1  george     2   35\n",
       "2    john     1   25\n",
       "3  sharon     4   55"
      ]
     },
     "execution_count": 18,
     "metadata": {},
     "output_type": "execute_result"
    }
   ],
   "source": [
    "# Initialize a list of dictionaries\n",
    "list_1 = [{'name' : 'mahesh', 'roll' : 1, 'age' : 25 }, \n",
    "          {'name' : 'george', 'roll' : 2, 'age' : 35 }, \n",
    "          {'name' : 'john', 'roll' : 1, 'age' : 25 },\n",
    "          {'name' : 'sharon', 'roll' : 4, 'age' : 55}]\n",
    "print(list_1)\n",
    "\n",
    "# Create DataFrame from a list of dictionaries\n",
    "df = pd.DataFrame(list_1)\n",
    "df"
   ]
  },
  {
   "cell_type": "markdown",
   "metadata": {},
   "source": [
    "* Load a dataset from a CSV file that is provided called messed_dataset.csv"
   ]
  },
  {
   "cell_type": "code",
   "execution_count": 19,
   "metadata": {},
   "outputs": [
    {
     "name": "stdout",
     "output_type": "stream",
     "text": [
      "                Name   Age                Email      Country    Salary  \\\n",
      "0            invalid  59.0  ycastro@example.org  Switzerland  44694.24   \n",
      "1    David Jefferson  21.0                  NaN        China       NaN   \n",
      "2      Jessica Reyes  34.0                  NaN          NaN  60511.62   \n",
      "3  Kenneth Macdonald  68.0    ewolf@example.com        Italy  84223.29   \n",
      "4        Julie Horne  78.0                  NaN      Ecuador  24665.13   \n",
      "\n",
      "  DateOfJoining  \n",
      "0    2022-09-29  \n",
      "1    2021-10-04  \n",
      "2    2022-05-24  \n",
      "3    2022-04-07  \n",
      "4    2020-06-19  \n"
     ]
    }
   ],
   "source": [
    "# Loading dataset from CSV\n",
    "df = pd.read_csv('messed_dataset.csv')\n",
    "print(df.head())"
   ]
  },
  {
   "cell_type": "markdown",
   "metadata": {},
   "source": [
    "###  Task 2: Viewing and Inspecting Data"
   ]
  },
  {
   "cell_type": "markdown",
   "metadata": {},
   "source": [
    "* Display the first and last few rows of the DataFrame"
   ]
  },
  {
   "cell_type": "code",
   "execution_count": 20,
   "metadata": {},
   "outputs": [
    {
     "name": "stdout",
     "output_type": "stream",
     "text": [
      "FIRST ROWS\n",
      "                Name   Age                Email      Country    Salary  \\\n",
      "0            invalid  59.0  ycastro@example.org  Switzerland  44694.24   \n",
      "1    David Jefferson  21.0                  NaN        China       NaN   \n",
      "2      Jessica Reyes  34.0                  NaN          NaN  60511.62   \n",
      "3  Kenneth Macdonald  68.0    ewolf@example.com        Italy  84223.29   \n",
      "4        Julie Horne  78.0                  NaN      Ecuador  24665.13   \n",
      "\n",
      "  DateOfJoining  \n",
      "0    2022-09-29  \n",
      "1    2021-10-04  \n",
      "2    2022-05-24  \n",
      "3    2022-04-07  \n",
      "4    2020-06-19  \n",
      "\n",
      "\n",
      "LAST ROWS\n",
      "                  Name   Age                     Email            Country  \\\n",
      "95    Garrett Davidson  56.0        gjames@example.com    Solomon Islands   \n",
      "96      Elizabeth Ross  52.0  richardlewis@example.net  Equatorial Guinea   \n",
      "97                 NaN  72.0       brian50@example.com            Somalia   \n",
      "98      Patricia Singh  65.0      lramirez@example.org             Greece   \n",
      "99  Christopher Stokes  42.0                       NaN       South Africa   \n",
      "\n",
      "      Salary DateOfJoining  \n",
      "95  86227.88           NaN  \n",
      "96  29992.69    2020-04-08  \n",
      "97  90628.22    2020-04-11  \n",
      "98  85290.44    2020-03-18  \n",
      "99  20289.17    2021-09-23  \n",
      "\n",
      "\n"
     ]
    }
   ],
   "source": [
    "# Display the first and last few rows of the DataFrame\n",
    "print(\"FIRST ROWS\")\n",
    "print(df.head())\n",
    "print(\"\\n\")\n",
    "\n",
    "print(\"LAST ROWS\")\n",
    "print(df.tail())\n",
    "print(\"\\n\")\n"
   ]
  },
  {
   "cell_type": "markdown",
   "metadata": {},
   "source": [
    "* Get a summary of the DataFrame, including basic statistics and data types."
   ]
  },
  {
   "cell_type": "code",
   "execution_count": 21,
   "metadata": {},
   "outputs": [
    {
     "name": "stdout",
     "output_type": "stream",
     "text": [
      "DATA TYPES\n",
      "<class 'pandas.core.frame.DataFrame'>\n",
      "RangeIndex: 100 entries, 0 to 99\n",
      "Data columns (total 6 columns):\n",
      " #   Column         Non-Null Count  Dtype \n",
      "---  ------         --------------  ----- \n",
      " 0   Name           89 non-null     object\n",
      " 1   Age            97 non-null     object\n",
      " 2   Email          80 non-null     object\n",
      " 3   Country        86 non-null     object\n",
      " 4   Salary         94 non-null     object\n",
      " 5   DateOfJoining  79 non-null     object\n",
      "dtypes: object(6)\n",
      "memory usage: 4.8+ KB\n",
      "None\n",
      "\n",
      "\n",
      "BASIC STATISTICS\n",
      "           Name   Age                Email Country   Salary DateOfJoining\n",
      "count        89    97                   80      86       94            79\n",
      "unique       85    53                   80      76       93            79\n",
      "top     invalid  76.0  ycastro@example.org  Greece  invalid    2022-09-29\n",
      "freq          5     6                    1       2        2             1\n",
      "\n",
      "\n"
     ]
    }
   ],
   "source": [
    "# Get basic statistics\n",
    "print (\"DATA TYPES\")\n",
    "print(df.info())\n",
    "print(\"\\n\")\n",
    "\n",
    "print(\"BASIC STATISTICS\")\n",
    "print(df.describe())\n",
    "print(\"\\n\")\n"
   ]
  },
  {
   "cell_type": "markdown",
   "metadata": {},
   "source": [
    "* Display the shape and column names of the DataFrame"
   ]
  },
  {
   "cell_type": "code",
   "execution_count": 22,
   "metadata": {},
   "outputs": [
    {
     "name": "stdout",
     "output_type": "stream",
     "text": [
      "SHAPE OF DATAFRAME\n",
      "(100, 6)\n",
      "\n",
      "\n",
      "COLUMNS\n",
      "Index(['Name', 'Age', 'Email', 'Country', 'Salary', 'DateOfJoining'], dtype='object')\n"
     ]
    }
   ],
   "source": [
    "# Display shape \n",
    "print (\"SHAPE OF DATAFRAME\")\n",
    "print(df.shape)\n",
    "print(\"\\n\")\n",
    "\n",
    "# Display column names\n",
    "print (\"COLUMNS\")\n",
    "print(df.columns)\n"
   ]
  },
  {
   "cell_type": "code",
   "execution_count": 23,
   "metadata": {},
   "outputs": [
    {
     "data": {
      "text/plain": [
       "Index(['Name', 'Age', 'Email', 'Country', 'Salary', 'DateOfJoining'], dtype='object')"
      ]
     },
     "execution_count": 23,
     "metadata": {},
     "output_type": "execute_result"
    }
   ],
   "source": [
    "# Display column names\n",
    "df.columns"
   ]
  },
  {
   "cell_type": "markdown",
   "metadata": {},
   "source": [
    "### Task 3 : Selection and Indexing \n",
    "* Select a single column and multiple columns.\n",
    "* Select rows by index and by label.\n",
    "* Select specific rows and columns using loc and iloc."
   ]
  },
  {
   "cell_type": "code",
   "execution_count": 24,
   "metadata": {},
   "outputs": [
    {
     "name": "stdout",
     "output_type": "stream",
     "text": [
      "SELECT SINGLE COLUMN\n",
      "0                invalid\n",
      "1        David Jefferson\n",
      "2          Jessica Reyes\n",
      "3      Kenneth Macdonald\n",
      "4            Julie Horne\n",
      "             ...        \n",
      "95      Garrett Davidson\n",
      "96        Elizabeth Ross\n",
      "97                   NaN\n",
      "98        Patricia Singh\n",
      "99    Christopher Stokes\n",
      "Name: Name, Length: 100, dtype: object\n",
      "/n\n",
      "SELECT MULTIPLE COLUMNS\n",
      "                  Name   Age\n",
      "0              invalid  59.0\n",
      "1      David Jefferson  21.0\n",
      "2        Jessica Reyes  34.0\n",
      "3    Kenneth Macdonald  68.0\n",
      "4          Julie Horne  78.0\n",
      "..                 ...   ...\n",
      "95    Garrett Davidson  56.0\n",
      "96      Elizabeth Ross  52.0\n",
      "97                 NaN  72.0\n",
      "98      Patricia Singh  65.0\n",
      "99  Christopher Stokes  42.0\n",
      "\n",
      "[100 rows x 2 columns]\n",
      "/n\n"
     ]
    }
   ],
   "source": [
    "# Select a single column\n",
    "print (\"SELECT SINGLE COLUMN\")\n",
    "print(df[\"Name\"])\n",
    "print(\"/n\")\n",
    "\n",
    "# Select multiple columns\n",
    "print (\"SELECT MULTIPLE COLUMNS\")\n",
    "print (df[['Name','Age']])\n",
    "print(\"/n\")\n",
    "\n"
   ]
  },
  {
   "cell_type": "code",
   "execution_count": 25,
   "metadata": {},
   "outputs": [
    {
     "name": "stdout",
     "output_type": "stream",
     "text": [
      "SELECT ROWS BY INDEX\n",
      "              Name   Age                Email      Country    Salary  \\\n",
      "0          invalid  59.0  ycastro@example.org  Switzerland  44694.24   \n",
      "1  David Jefferson  21.0                  NaN        China       NaN   \n",
      "\n",
      "  DateOfJoining  \n",
      "0    2022-09-29  \n",
      "1    2021-10-04  \n"
     ]
    }
   ],
   "source": [
    "# Select rows by index\n",
    "print (\"SELECT ROWS BY INDEX\")\n",
    "print (df.iloc[0:2])"
   ]
  },
  {
   "cell_type": "code",
   "execution_count": 26,
   "metadata": {},
   "outputs": [
    {
     "name": "stdout",
     "output_type": "stream",
     "text": [
      "SELECT ROWS BY LABEL\n",
      "name    mahesh\n",
      "roll         1\n",
      "age         25\n",
      "Name: row1, dtype: object\n"
     ]
    }
   ],
   "source": [
    "# Select rows by label\n",
    "print ('SELECT ROWS BY LABEL')\n",
    "# Creating Dataframe from a list of dictionaries\n",
    "list_1 = [{'name' : 'mahesh', 'roll' : 1, 'age' : 25 }, \n",
    "          {'name' : 'george', 'roll' : 2, 'age' : 35 }, \n",
    "          {'name' : 'john', 'roll' : 1, 'age' : 25 },\n",
    "          {'name' : 'sharon', 'roll' : 4, 'age' : 55}]\n",
    "\n",
    "dataframe_2 = pd.DataFrame(list_1, index=['row1', 'row2', 'row3', 'row4'])\n",
    "\n",
    "print(dataframe_2.loc['row1'])"
   ]
  },
  {
   "cell_type": "code",
   "execution_count": 27,
   "metadata": {},
   "outputs": [
    {
     "name": "stdout",
     "output_type": "stream",
     "text": [
      "PRINT SPECIFIC ROWS AND COLUMNS USING LOC AND ILOC\n",
      "HEAD\n",
      "                Name   Age                Email      Country    Salary  \\\n",
      "0            invalid  59.0  ycastro@example.org  Switzerland  44694.24   \n",
      "1    David Jefferson  21.0                  NaN        China       NaN   \n",
      "2      Jessica Reyes  34.0                  NaN          NaN  60511.62   \n",
      "3  Kenneth Macdonald  68.0    ewolf@example.com        Italy  84223.29   \n",
      "4        Julie Horne  78.0                  NaN      Ecuador  24665.13   \n",
      "\n",
      "  DateOfJoining  \n",
      "0    2022-09-29  \n",
      "1    2021-10-04  \n",
      "2    2022-05-24  \n",
      "3    2022-04-07  \n",
      "4    2020-06-19  \n",
      "\n",
      "\n",
      "PRINT USING LOC\n",
      "              Name   Age\n",
      "1  David Jefferson  21.0\n",
      "2    Jessica Reyes  34.0\n",
      "\n",
      "\n",
      "PRINT USING ILOC\n",
      "    Age Email\n",
      "1  21.0   NaN\n",
      "2  34.0   NaN\n"
     ]
    }
   ],
   "source": [
    "# Select specific rows and columns using loc and iloc\n",
    "print (\"PRINT SPECIFIC ROWS AND COLUMNS USING LOC AND ILOC\")\n",
    "print(\"HEAD\")\n",
    "print(df.head())\n",
    "print(\"\\n\")\n",
    "print (\"PRINT USING LOC\")\n",
    "print(df.loc[[1,2], ['Name','Age']])\n",
    "print(\"\\n\")\n",
    "\n",
    "print(\"PRINT USING ILOC\")\n",
    "print(df.iloc[[1,2],[1,2]])\n"
   ]
  },
  {
   "cell_type": "markdown",
   "metadata": {},
   "source": [
    "### Task4: Handling Missing Data"
   ]
  },
  {
   "cell_type": "markdown",
   "metadata": {},
   "source": [
    "* Identify missing values in the DataFrame\n"
   ]
  },
  {
   "cell_type": "code",
   "execution_count": 28,
   "metadata": {},
   "outputs": [
    {
     "name": "stdout",
     "output_type": "stream",
     "text": [
      "Name             11\n",
      "Age               3\n",
      "Email            20\n",
      "Country          14\n",
      "Salary            6\n",
      "DateOfJoining    21\n",
      "dtype: int64\n"
     ]
    }
   ],
   "source": [
    "# Getting sum of columns with null values\n",
    "print (df.isnull().sum())"
   ]
  },
  {
   "cell_type": "markdown",
   "metadata": {},
   "source": [
    "* Drop rows with missing values\n"
   ]
  },
  {
   "cell_type": "code",
   "execution_count": 29,
   "metadata": {},
   "outputs": [
    {
     "name": "stdout",
     "output_type": "stream",
     "text": [
      "Name             0\n",
      "Age              0\n",
      "Email            0\n",
      "Country          0\n",
      "Salary           0\n",
      "DateOfJoining    0\n",
      "dtype: int64\n"
     ]
    }
   ],
   "source": [
    "df_cleaned = df.dropna()\n",
    "print(df_cleaned.isnull().sum())"
   ]
  },
  {
   "cell_type": "markdown",
   "metadata": {},
   "source": [
    "* Fill missing values with a specified value."
   ]
  },
  {
   "cell_type": "code",
   "execution_count": 30,
   "metadata": {},
   "outputs": [
    {
     "name": "stderr",
     "output_type": "stream",
     "text": [
      "C:\\Users\\User\\AppData\\Local\\Temp\\ipykernel_23476\\1532338200.py:1: FutureWarning: A value is trying to be set on a copy of a DataFrame or Series through chained assignment using an inplace method.\n",
      "The behavior will change in pandas 3.0. This inplace method will never work because the intermediate object on which we are setting values always behaves as a copy.\n",
      "\n",
      "For example, when doing 'df[col].method(value, inplace=True)', try using 'df.method({col: value}, inplace=True)' or df[col] = df[col].method(value) instead, to perform the operation inplace on the original object.\n",
      "\n",
      "\n",
      "  df['Age'].fillna(0, inplace = True)\n"
     ]
    }
   ],
   "source": [
    "df['Age'].fillna(0, inplace = True)\n"
   ]
  },
  {
   "cell_type": "markdown",
   "metadata": {},
   "source": [
    "### Task 5 : Data Operations"
   ]
  },
  {
   "cell_type": "markdown",
   "metadata": {},
   "source": [
    "* Add a new column to the DataFrame"
   ]
  },
  {
   "cell_type": "code",
   "execution_count": 31,
   "metadata": {},
   "outputs": [
    {
     "name": "stdout",
     "output_type": "stream",
     "text": [
      "                Name   Age                Email      Country    Salary  \\\n",
      "0            invalid  59.0  ycastro@example.org  Switzerland  44694.24   \n",
      "1    David Jefferson  21.0                  NaN        China       NaN   \n",
      "2      Jessica Reyes  34.0                  NaN          NaN  60511.62   \n",
      "3  Kenneth Macdonald  68.0    ewolf@example.com        Italy  84223.29   \n",
      "4        Julie Horne  78.0                  NaN      Ecuador  24665.13   \n",
      "\n",
      "  DateOfJoining  \n",
      "0    2022-09-29  \n",
      "1    2021-10-04  \n",
      "2    2022-05-24  \n",
      "3    2022-04-07  \n",
      "4    2020-06-19  \n"
     ]
    }
   ],
   "source": [
    "print(df.head())"
   ]
  },
  {
   "cell_type": "code",
   "execution_count": 32,
   "metadata": {},
   "outputs": [],
   "source": [
    "# Add a column called 'Organization'\n",
    "df['Organization'] = 'UN'"
   ]
  },
  {
   "cell_type": "code",
   "execution_count": 33,
   "metadata": {},
   "outputs": [
    {
     "name": "stdout",
     "output_type": "stream",
     "text": [
      "                Name   Age                Email      Country    Salary  \\\n",
      "0            invalid  59.0  ycastro@example.org  Switzerland  44694.24   \n",
      "1    David Jefferson  21.0                  NaN        China       NaN   \n",
      "2      Jessica Reyes  34.0                  NaN          NaN  60511.62   \n",
      "3  Kenneth Macdonald  68.0    ewolf@example.com        Italy  84223.29   \n",
      "4        Julie Horne  78.0                  NaN      Ecuador  24665.13   \n",
      "\n",
      "  DateOfJoining  \n",
      "0    2022-09-29  \n",
      "1    2021-10-04  \n",
      "2    2022-05-24  \n",
      "3    2022-04-07  \n",
      "4    2020-06-19  \n"
     ]
    }
   ],
   "source": [
    "# Delete a column called 'Organization'\n",
    "df.drop('Organization', axis = 1, inplace = True)\n",
    "print(df.head())"
   ]
  },
  {
   "cell_type": "code",
   "execution_count": 34,
   "metadata": {},
   "outputs": [
    {
     "name": "stdout",
     "output_type": "stream",
     "text": [
      "                Name   Age                Email       Nation    Salary  \\\n",
      "0            invalid  59.0  ycastro@example.org  Switzerland  44694.24   \n",
      "1    David Jefferson  21.0                  NaN        China       NaN   \n",
      "2      Jessica Reyes  34.0                  NaN          NaN  60511.62   \n",
      "3  Kenneth Macdonald  68.0    ewolf@example.com        Italy  84223.29   \n",
      "4        Julie Horne  78.0                  NaN      Ecuador  24665.13   \n",
      "\n",
      "  DateOfJoining  \n",
      "0    2022-09-29  \n",
      "1    2021-10-04  \n",
      "2    2022-05-24  \n",
      "3    2022-04-07  \n",
      "4    2020-06-19  \n"
     ]
    }
   ],
   "source": [
    "# Rename columns in the Dataframe\n",
    "df.rename(columns={'Country':'Nation'}, inplace = True)\n",
    "print(df.head())"
   ]
  },
  {
   "cell_type": "markdown",
   "metadata": {},
   "source": [
    "* Apply a function to a column"
   ]
  },
  {
   "cell_type": "code",
   "execution_count": 35,
   "metadata": {},
   "outputs": [
    {
     "name": "stdout",
     "output_type": "stream",
     "text": [
      "                Name   Age                Email       Nation    Salary  \\\n",
      "0            invalid  59.0  ycastro@example.org  Switzerland  44694.24   \n",
      "1    David Jefferson  21.0                  NaN        China       NaN   \n",
      "2      Jessica Reyes  34.0                  NaN          NaN  60511.62   \n",
      "3  Kenneth Macdonald  68.0    ewolf@example.com        Italy  84223.29   \n",
      "4        Julie Horne  78.0                  NaN      Ecuador  24665.13   \n",
      "\n",
      "  DateOfJoining  \n",
      "0    2022-09-29  \n",
      "1    2021-10-04  \n",
      "2    2022-05-24  \n",
      "3    2022-04-07  \n",
      "4    2020-06-19  \n"
     ]
    }
   ],
   "source": [
    "# First filling null values with 0\n",
    "df['Salary'].fillna(0)\n",
    "\n",
    "# Applying function to Salary to double it.\n",
    "df['Salary'].apply(lambda x: x*2)\n",
    "print(df.head())\n"
   ]
  },
  {
   "cell_type": "markdown",
   "metadata": {},
   "source": [
    "### Task 6: GroupBy Operations"
   ]
  },
  {
   "cell_type": "markdown",
   "metadata": {},
   "source": [
    "* Group the DataFrame by a column and calculate summary statitics"
   ]
  },
  {
   "cell_type": "code",
   "execution_count": 36,
   "metadata": {},
   "outputs": [
    {
     "data": {
      "text/plain": [
       "Country\n",
       "Armenia                                                57795.75\n",
       "Bahamas                                                78048.75\n",
       "Bahrain                                                83514.58\n",
       "Bosnia and Herzegovina                                 35390.77\n",
       "British Indian Ocean Territory (Chagos Archipelago)    25219.60\n",
       "Burkina Faso                                           81661.97\n",
       "Cambodia                                               47755.97\n",
       "Cameroon                                               25660.99\n",
       "Cape Verde                                             28583.22\n",
       "Central African Republic                               71261.36\n",
       "Colombia                                               32205.53\n",
       "Congo                                                  83580.80\n",
       "Czech Republic                                         29455.00\n",
       "Ecuador                                                30773.53\n",
       "Equatorial Guinea                                      29992.69\n",
       "Greece                                                 84566.52\n",
       "Grenada                                                62929.05\n",
       "Guernsey                                               35671.38\n",
       "Guinea-Bissau                                          89683.17\n",
       "Iceland                                                99507.66\n",
       "Italy                                                  84223.29\n",
       "Luxembourg                                             55583.62\n",
       "Malawi                                                 42435.96\n",
       "Mauritania                                             52834.29\n",
       "Mauritius                                              54801.70\n",
       "Moldova                                                34369.87\n",
       "Mozambique                                             98826.59\n",
       "Myanmar                                                20175.11\n",
       "Netherlands                                            58550.56\n",
       "Netherlands Antilles                                   75080.98\n",
       "Niue                                                   43013.14\n",
       "Philippines                                            78453.84\n",
       "Reunion                                                39875.14\n",
       "Saint Barthelemy                                       86579.95\n",
       "Serbia                                                 59670.50\n",
       "Slovakia (Slovak Republic)                             49354.13\n",
       "South Africa                                           72362.02\n",
       "Sri Lanka                                              66871.64\n",
       "Sudan                                                  98396.21\n",
       "Switzerland                                            44694.24\n",
       "Tanzania                                               21408.87\n",
       "Timor-Leste                                            28951.24\n",
       "Turkmenistan                                           69624.01\n",
       "Turks and Caicos Islands                               86286.69\n",
       "Uganda                                                 47293.85\n",
       "invalid                                                73916.51\n",
       "Name: Salary, dtype: float64"
      ]
     },
     "execution_count": 36,
     "metadata": {},
     "output_type": "execute_result"
    }
   ],
   "source": [
    "# Read the data\n",
    "df = pd.read_csv('messed_dataset.csv')\n",
    "\n",
    "# Convert salary to numeric\n",
    "df['Salary'] = pd.to_numeric(df['Salary'], errors ='coerce')\n",
    "\n",
    "# Fill null values in Salary column\n",
    "df['Salary'].fillna(0)\n",
    "\n",
    "# Drop columns with empty values\n",
    "df = df.dropna()\n",
    "\n",
    "# Group by country to get mean salary\n",
    "df.groupby('Country')['Salary'].mean()"
   ]
  },
  {
   "cell_type": "markdown",
   "metadata": {},
   "source": [
    "### Task 7 : Merging and Joining DataFrames"
   ]
  },
  {
   "cell_type": "markdown",
   "metadata": {},
   "source": [
    "* Merge two DataFrames on a common column."
   ]
  },
  {
   "cell_type": "code",
   "execution_count": 37,
   "metadata": {},
   "outputs": [
    {
     "name": "stdout",
     "output_type": "stream",
     "text": [
      "      Name  Roll  Country\n",
      "0  Albert,     1  Germany\n",
      "1   Newton     2  England\n",
      "2  Galileo     3    Italy\n",
      "3    Tesla     4  Austria\n",
      "\n",
      "\n",
      "      Name    Invention\n",
      "0  Albert,    SpaceTime\n",
      "1   Newton      Gravity\n",
      "2  Galileo       Planet\n",
      "3    Tesla  Electricity\n",
      "      Name  Roll  Country    Invention\n",
      "0  Albert,     1  Germany    SpaceTime\n",
      "1   Newton     2  England      Gravity\n",
      "2  Galileo     3    Italy       Planet\n",
      "3    Tesla     4  Austria  Electricity\n"
     ]
    }
   ],
   "source": [
    "dict_1 = {\n",
    "    'Name': ['Albert,', 'Newton', 'Galileo', 'Tesla'],\n",
    "    'Roll': [ 1, 2, 3, 4],\n",
    "    'Country' : ['Germany', 'England', 'Italy', 'Austria']\n",
    "}\n",
    "df_1 = pd.DataFrame(dict_1)\n",
    "print(df_1)\n",
    "print('\\n')\n",
    "\n",
    "dict_2 = {\n",
    "    'Name': ['Albert,', 'Newton', 'Galileo', 'Tesla'],\n",
    "    'Invention' : ['SpaceTime', 'Gravity', 'Planet', 'Electricity']\n",
    "}\n",
    "df_2 = pd.DataFrame(dict_2)\n",
    "print(df_2)\n",
    "\n",
    "merged_df = pd.merge(df_1, df_2, on=\"Name\")\n",
    "print(merged_df)\n",
    "\n"
   ]
  },
  {
   "cell_type": "markdown",
   "metadata": {},
   "source": [
    "* Join two DataFrames using their indices."
   ]
  },
  {
   "cell_type": "code",
   "execution_count": 38,
   "metadata": {},
   "outputs": [
    {
     "name": "stdout",
     "output_type": "stream",
     "text": [
      "      Name  Roll  Country\n",
      "1  Albert,     1  Germany\n",
      "2   Newton     2  England\n",
      "3  Galileo     3    Italy\n",
      "4    Tesla     4  Austria\n",
      "\\m\n",
      "     Invention\n",
      "1    SpaceTime\n",
      "2      Gravity\n",
      "3       Planet\n",
      "4  Electricity\n",
      "      Name  Roll  Country    Invention\n",
      "1  Albert,     1  Germany    SpaceTime\n",
      "2   Newton     2  England      Gravity\n",
      "3  Galileo     3    Italy       Planet\n",
      "4    Tesla     4  Austria  Electricity\n"
     ]
    }
   ],
   "source": [
    "ict_1 = {\n",
    "    'Name': ['Albert,', 'Newton', 'Galileo', 'Tesla'],\n",
    "    'Roll': [ 1, 2, 3, 4],\n",
    "    'Country' : ['Germany', 'England', 'Italy', 'Austria']\n",
    "}\n",
    "df_1 = pd.DataFrame(dict_1, index=[1,2,3,4])\n",
    "print(df_1)\n",
    "print('\\m')\n",
    "\n",
    "dict_2 = {\n",
    "    'Invention' : ['SpaceTime', 'Gravity', 'Planet', 'Electricity']\n",
    "}\n",
    "df_2 = pd.DataFrame(dict_2, index = [1,2,3,4])\n",
    "print(df_2)\n",
    "\n",
    "# Join using indices\n",
    "merged_join_df = df_1.join(df_2, how=\"inner\")\n",
    "print(merged_join_df)"
   ]
  },
  {
   "cell_type": "markdown",
   "metadata": {},
   "source": [
    "### Task 8 : Working with Dates and Times"
   ]
  },
  {
   "cell_type": "markdown",
   "metadata": {},
   "source": [
    "* Create a datetime index for the DataFrame"
   ]
  },
  {
   "cell_type": "code",
   "execution_count": 39,
   "metadata": {},
   "outputs": [
    {
     "name": "stdout",
     "output_type": "stream",
     "text": [
      "            value\n",
      "date             \n",
      "2024-01-01     10\n",
      "2025-02-01     20\n",
      "2026-03-01     30\n",
      "\n",
      "\n",
      "Index([2024, 2025, 2026], dtype='int32', name='date')\n",
      "Index([1, 2, 3], dtype='int32', name='date')\n",
      "Index([1, 1, 1], dtype='int32', name='date')\n"
     ]
    }
   ],
   "source": [
    "dict_1 = {\n",
    "    'date' : ['2024-01-01', '2025-02-01', '2026-03-01'],\n",
    "    'value': [10, 20, 30]\n",
    "}\n",
    "\n",
    "df = pd.DataFrame(dict_1)\n",
    "\n",
    "df['date'] = pd.to_datetime(df['date'])\n",
    "\n",
    "df.set_index('date', inplace = True)\n",
    "\n",
    "print(df)\n",
    "print(\"\\n\")\n",
    "\n",
    "\n",
    "# Extracting year\n",
    "print(df.index.year)\n",
    "\n",
    "# Extracting month\n",
    "print(df.index.month)\n",
    "\n",
    "# Extracting day\n",
    "print(df.index.day)"
   ]
  },
  {
   "cell_type": "markdown",
   "metadata": {},
   "source": [
    "### Task 9 : Input and Output"
   ]
  },
  {
   "cell_type": "markdown",
   "metadata": {},
   "source": [
    "* Read data from a CSV file into a dataframe"
   ]
  },
  {
   "cell_type": "code",
   "execution_count": 40,
   "metadata": {},
   "outputs": [],
   "source": [
    "# Read CSV \n",
    "df = pd.read_csv('messed_dataset.csv')\n",
    "\n",
    "# Write DataFrame to CSV\n",
    "df.to_csv('copy_of_messed_dataset.csv')\n",
    "\n",
    "# Read Excel\n",
    "df = pd.read_excel('SaleData.xlsx')\n",
    "\n",
    "# Write DataFrame to Excel\n",
    "df.to_excel('Copy_of_SaleData.xlsx')\n"
   ]
  },
  {
   "cell_type": "markdown",
   "metadata": {},
   "source": [
    "## Section 2 : Reference to Friday Class on EDA"
   ]
  },
  {
   "cell_type": "markdown",
   "metadata": {},
   "source": [
    "### Task 10 : Visualization"
   ]
  },
  {
   "cell_type": "markdown",
   "metadata": {},
   "source": [
    "* Create a simple plot using Matplotlib"
   ]
  },
  {
   "cell_type": "code",
   "execution_count": 41,
   "metadata": {},
   "outputs": [],
   "source": [
    "# Import necessary libraries\n",
    "import pandas as pd\n",
    "import matplotlib.pyplot as plt\n",
    "import seaborn as sns"
   ]
  },
  {
   "cell_type": "code",
   "execution_count": 42,
   "metadata": {},
   "outputs": [
    {
     "name": "stdout",
     "output_type": "stream",
     "text": [
      "                                     id                 name   age    income  \\\n",
      "0  e3e70682-c209-4cac-a29f-6fbed82c07cd      Thomas Gonzalez  42.0  92701.95   \n",
      "1  f728b4fa-4248-4e3a-8a5d-2f346baa9455  Christopher Barrett  66.0  67632.79   \n",
      "2  eb1167b3-67a9-4378-bc65-c1e582e2e662         Kathy Willis  44.0  22836.08   \n",
      "3  f7c1bd87-4da5-4709-9471-3d60c8a70639      Shannon Bullock  20.0  83378.92   \n",
      "4  e443df78-9558-467f-9ba9-1faf7a024204       Steven Johnson  34.0  44448.31   \n",
      "\n",
      "  purchase_date product_category  purchase_amount  is_returned  \n",
      "0    2021-04-14         Clothing           261.01            1  \n",
      "1    2021-06-14           Sports           318.51            1  \n",
      "2    2021-03-31      Electronics           370.91            0  \n",
      "3    2023-11-04         Clothing            77.07            1  \n",
      "4    2020-01-12   Home & Kitchen           256.40            0  \n"
     ]
    }
   ],
   "source": [
    " # Read csv file and print head\n",
    "df = pd.read_csv('sample_dataset.csv')\n",
    "print (df.head())\n",
    "\n",
    "\n"
   ]
  },
  {
   "cell_type": "code",
   "execution_count": 43,
   "metadata": {},
   "outputs": [
    {
     "data": {
      "image/png": "[encoded data removed]",
      "text/plain": [
       "<Figure size 1000x600 with 1 Axes>"
      ]
     },
     "metadata": {},
     "output_type": "display_data"
    }
   ],
   "source": [
    "# Create a simple plot\n",
    "plt.figure(figsize = (10, 6))\n",
    "\n",
    "plt.scatter(df['age'], df['income'])\n",
    "plt.title('Age versus Income')\n",
    "plt.xlabel('Age')\n",
    "plt.ylabel('Income')\n",
    "\n",
    "plt.show()\n"
   ]
  },
  {
   "cell_type": "markdown",
   "metadata": {},
   "source": [
    "* Create a bar plot using Seaborn"
   ]
  },
  {
   "cell_type": "code",
   "execution_count": 44,
   "metadata": {},
   "outputs": [
    {
     "data": {
      "image/png": "[encoded data removed]",
      "text/plain": [
       "<Figure size 1000x600 with 1 Axes>"
      ]
     },
     "metadata": {},
     "output_type": "display_data"
    }
   ],
   "source": [
    "plt.figure(figsize=(10,6))\n",
    "\n",
    "sns.barplot(x='product_category', y ='purchase_amount', data = df)\n",
    "\n",
    "plt.title('Expense on purchases')\n",
    "plt.xlabel('Purchases')\n",
    "plt.ylabel('Amount')\n",
    "\n",
    "plt.show()"
   ]
  },
  {
   "cell_type": "code",
   "execution_count": null,
   "metadata": {},
   "outputs": [],
   "source": []
  }
 ],
 "metadata": {
  "kernelspec": {
   "display_name": "Python 3",
   "language": "python",
   "name": "python3"
  },
  "language_info": {
   "codemirror_mode": {
    "name": "ipython",
    "version": 3
   },
   "file_extension": ".py",
   "mimetype": "text/x-python",
   "name": "python",
   "nbconvert_exporter": "python",
   "pygments_lexer": "ipython3",
   "version": "3.9.2"
  }
 },
 "nbformat": 4,
 "nbformat_minor": 2
}
