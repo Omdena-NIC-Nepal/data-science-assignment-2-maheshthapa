{
 "cells": [
  {
   "cell_type": "code",
   "execution_count": 2,
   "metadata": {},
   "outputs": [],
   "source": [
    "import pandas as pd"
   ]
  },
  {
   "cell_type": "markdown",
   "metadata": {},
   "source": [
    "# Task 1"
   ]
  },
  {
   "cell_type": "code",
   "execution_count": 10,
   "metadata": {},
   "outputs": [
    {
     "name": "stdout",
     "output_type": "stream",
     "text": [
      "{'name': ['mahesh', 'george', 'john', 'sharaon'], 'roll': [1, 2, 3, 4], 'age': [25, 35, 45, 55]}\n",
      "      name  roll  age\n",
      "0   mahesh     1   25\n",
      "1   george     2   35\n",
      "2     john     3   45\n",
      "3  sharaon     4   55\n",
      "\n",
      "\n",
      "[{'name': 'mahesh', 'roll': 1, 'age': 25}, {'name': 'george', 'roll': 2, 'age': 35}, {'name': 'john', 'roll': 1, 'age': 25}, {'name': 'sharon', 'roll': 4, 'age': 55}]\n",
      "     name  roll  age\n",
      "0  mahesh     1   25\n",
      "1  george     2   35\n",
      "2    john     1   25\n",
      "3  sharon     4   55\n",
      "\n",
      "\n",
      "                Name   Age                Email      Country    Salary  \\\n",
      "0            invalid  59.0  ycastro@example.org  Switzerland  44694.24   \n",
      "1    David Jefferson  21.0                  NaN        China       NaN   \n",
      "2      Jessica Reyes  34.0                  NaN          NaN  60511.62   \n",
      "3  Kenneth Macdonald  68.0    ewolf@example.com        Italy  84223.29   \n",
      "4        Julie Horne  78.0                  NaN      Ecuador  24665.13   \n",
      "\n",
      "  DateOfJoining  \n",
      "0    2022-09-29  \n",
      "1    2021-10-04  \n",
      "2    2022-05-24  \n",
      "3    2022-04-07  \n",
      "4    2020-06-19  \n",
      "\n",
      "\n"
     ]
    }
   ],
   "source": [
    "# Create Dataframe from a dictionary\n",
    "dict_1 = {'name' : ['mahesh', 'george', 'john', 'sharaon'],\n",
    "          'roll' : [1, 2, 3, 4],\n",
    "          'age' : [25, 35, 45, 55]\n",
    "        }\n",
    "print(dict_1)\n",
    "\n",
    "df = pd.DataFrame(dict_1)\n",
    "print(df)\n",
    "print(\"\\n\")\n",
    "\n",
    "# create Dataframe from a list of dictionaries\n",
    "list_1 = [{'name' : 'mahesh', 'roll' : 1, 'age' : 25 }, \n",
    "          {'name' : 'george', 'roll' : 2, 'age' : 35 }, \n",
    "          {'name' : 'john', 'roll' : 1, 'age' : 25 },\n",
    "          {'name' : 'sharon', 'roll' : 4, 'age' : 55}]\n",
    "print(list_1)\n",
    "\n",
    "df = pd.DataFrame(list_1)\n",
    "print(df)\n",
    "print(\"\\n\")\n",
    "\n",
    "\n",
    "# Load the dataset\n",
    "df = pd.read_csv('messed_dataset.csv')\n",
    "print(df.head())\n",
    "print(\"\\n\")"
   ]
  },
  {
   "cell_type": "markdown",
   "metadata": {},
   "source": [
    "# Task 2\n",
    "\n",
    "- Viewing and Inspecting Data"
   ]
  },
  {
   "cell_type": "code",
   "execution_count": 20,
   "metadata": {},
   "outputs": [
    {
     "name": "stdout",
     "output_type": "stream",
     "text": [
      "                Name   Age                Email      Country    Salary  \\\n",
      "0            invalid  59.0  ycastro@example.org  Switzerland  44694.24   \n",
      "1    David Jefferson  21.0                  NaN        China       NaN   \n",
      "2      Jessica Reyes  34.0                  NaN          NaN  60511.62   \n",
      "3  Kenneth Macdonald  68.0    ewolf@example.com        Italy  84223.29   \n",
      "4        Julie Horne  78.0                  NaN      Ecuador  24665.13   \n",
      "\n",
      "  DateOfJoining  \n",
      "0    2022-09-29  \n",
      "1    2021-10-04  \n",
      "2    2022-05-24  \n",
      "3    2022-04-07  \n",
      "4    2020-06-19  \n",
      "\n",
      "\n",
      "                  Name   Age                     Email            Country  \\\n",
      "95    Garrett Davidson  56.0        gjames@example.com    Solomon Islands   \n",
      "96      Elizabeth Ross  52.0  richardlewis@example.net  Equatorial Guinea   \n",
      "97                 NaN  72.0       brian50@example.com            Somalia   \n",
      "98      Patricia Singh  65.0      lramirez@example.org             Greece   \n",
      "99  Christopher Stokes  42.0                       NaN       South Africa   \n",
      "\n",
      "      Salary DateOfJoining  \n",
      "95  86227.88           NaN  \n",
      "96  29992.69    2020-04-08  \n",
      "97  90628.22    2020-04-11  \n",
      "98  85290.44    2020-03-18  \n",
      "99  20289.17    2021-09-23  \n",
      "\n",
      "\n",
      "           Name   Age                Email Country   Salary DateOfJoining\n",
      "count        89    97                   80      86       94            79\n",
      "unique       85    53                   80      76       93            79\n",
      "top     invalid  76.0  ycastro@example.org  Greece  invalid    2022-09-29\n",
      "freq          5     6                    1       2        2             1\n",
      "\n",
      "\n",
      "<class 'pandas.core.frame.DataFrame'>\n",
      "RangeIndex: 100 entries, 0 to 99\n",
      "Data columns (total 6 columns):\n",
      " #   Column         Non-Null Count  Dtype \n",
      "---  ------         --------------  ----- \n",
      " 0   Name           89 non-null     object\n",
      " 1   Age            97 non-null     object\n",
      " 2   Email          80 non-null     object\n",
      " 3   Country        86 non-null     object\n",
      " 4   Salary         94 non-null     object\n",
      " 5   DateOfJoining  79 non-null     object\n",
      "dtypes: object(6)\n",
      "memory usage: 4.8+ KB\n",
      "None\n",
      "\n",
      "\n",
      "(100, 6)\n",
      "\n",
      "\n",
      "Index(['Name', 'Age', 'Email', 'Country', 'Salary', 'DateOfJoining'], dtype='object')\n",
      "\n",
      "\n"
     ]
    }
   ],
   "source": [
    "# Display the first rows of the Dataframe\n",
    "print(df.head())\n",
    "print(\"\\n\")\n",
    "\n",
    "# Display the last rows of the Dataframe\n",
    "print(df.tail())\n",
    "print(\"\\n\")\n",
    "\n",
    "# Display basic statistics\n",
    "print(df.describe())\n",
    "print(\"\\n\")\n",
    "\n",
    "# Display data types\n",
    "print(df.info())\n",
    "print(\"\\n\")\n",
    "\n",
    "# Display the shape of the Dataframe\n",
    "print(df.shape)\n",
    "print(\"\\n\")\n",
    "\n",
    "# Display the column names of the Dataframe\n",
    "print(df.columns)\n",
    "print(\"\\n\")\n",
    "      "
   ]
  },
  {
   "cell_type": "markdown",
   "metadata": {},
   "source": [
    "# Task 3\n",
    "- Data Analysis. Analyse the data by giving the summary statistics, and more information about the data\n"
   ]
  },
  {
   "cell_type": "code",
   "execution_count": 6,
   "metadata": {},
   "outputs": [],
   "source": [
    "# Your code goes here"
   ]
  },
  {
   "cell_type": "markdown",
   "metadata": {},
   "source": [
    "# Data Visualization\n",
    "- Visualize the data by using the visualization libraries"
   ]
  },
  {
   "cell_type": "code",
   "execution_count": 7,
   "metadata": {},
   "outputs": [],
   "source": [
    "# Your code goes here"
   ]
  },
  {
   "cell_type": "code",
   "execution_count": null,
   "metadata": {},
   "outputs": [],
   "source": []
  }
 ],
 "metadata": {
  "kernelspec": {
   "display_name": "base",
   "language": "python",
   "name": "python3"
  },
  "language_info": {
   "codemirror_mode": {
    "name": "ipython",
    "version": 3
   },
   "file_extension": ".py",
   "mimetype": "text/x-python",
   "name": "python",
   "nbconvert_exporter": "python",
   "pygments_lexer": "ipython3",
   "version": "3.9.2"
  }
 },
 "nbformat": 4,
 "nbformat_minor": 2
}
